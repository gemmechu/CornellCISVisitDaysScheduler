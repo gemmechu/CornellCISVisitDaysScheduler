{
 "cells": [
  {
   "cell_type": "code",
   "execution_count": 1,
   "metadata": {},
   "outputs": [
    {
     "name": "stdout",
     "output_type": "stream",
     "text": [
      "Professor Nate Foster was requested but doesn't seem to be attending.\n",
      "Professor Rachit Agarwal was requested but doesn't seem to be attending.\n",
      "Professor Nate Foster was requested but doesn't seem to be attending.\n",
      "Professor Rachit Agarwal was requested but doesn't seem to be attending.\n",
      "Professor Tom Ristenpart was requested but doesn't seem to be attending.\n",
      "Professor Rachit Agarwal was requested but doesn't seem to be attending.\n",
      "Professor Rachit Agarwal was requested but doesn't seem to be attending.\n",
      "Professor Nate Foster was requested but doesn't seem to be attending.\n",
      "Professor Mark Wilde was requested but doesn't seem to be attending.\n",
      "Professor Rachit Agarwal was requested but doesn't seem to be attending.\n",
      "Professor Shiri Azenkot was requested but doesn't seem to be attending.\n",
      "Professor Haiyuan Yu was requested but doesn't seem to be attending.\n",
      "Professor Tom Ristenpart was requested but doesn't seem to be attending.\n",
      "Professor Rachit Agarwal was requested but doesn't seem to be attending.\n",
      "Professor Tanzeem Choudhury was requested but doesn't seem to be attending.\n",
      "Professor Cheng Zhang was requested but doesn't seem to be attending.\n",
      "Professor Nate Foster was requested but doesn't seem to be attending.\n",
      "Professor Nate Foster was requested but doesn't seem to be attending.\n",
      "Professor Rachit Agarwal was requested but doesn't seem to be attending.\n",
      "Professor Tom Ristenpart was requested but doesn't seem to be attending.\n",
      "Professor David Albonesi was requested but doesn't seem to be attending.\n",
      "Professor G. Edward Suh was requested but doesn't seem to be attending.\n",
      "Professor Tom Ristenpart was requested but doesn't seem to be attending.\n",
      "Professor Ramin Zabih was requested but doesn't seem to be attending.\n",
      "Professor Fei Wang (Weill) was requested but doesn't seem to be attending.\n",
      "Professor Mor Naaman was requested but doesn't seem to be attending.\n",
      "Professor Fei Wang (Weill) was requested but doesn't seem to be attending.\n",
      "Professor Christina Yu was requested but doesn't seem to be attending.\n",
      "Professor Ramin Zabih was requested but doesn't seem to be attending.\n",
      "Professor Rachit Agarwal was requested but doesn't seem to be attending.\n",
      "Professor Nate Foster was requested but doesn't seem to be attending.\n",
      "Professor Tom Ristenpart was requested but doesn't seem to be attending.\n",
      "Professor David Matteson was requested but doesn't seem to be attending.\n",
      "Professor Nate Foster was requested but doesn't seem to be attending.\n",
      "Professor Nate Foster was requested but doesn't seem to be attending.\n",
      "Professor Rafael Pass (On Leave) was requested but doesn't seem to be attending.\n",
      "Professor Rafael Pass (On Leave) was requested but doesn't seem to be attending.\n",
      "Professor Nate Foster was requested but doesn't seem to be attending.\n",
      "Professor Joe Halpern was requested but doesn't seem to be attending.\n",
      "Professor Nate Foster was requested but doesn't seem to be attending.\n",
      "Professor Phoebe Sengers was requested but doesn't seem to be attending.\n",
      "Professor Rachit Agarwal was requested but doesn't seem to be attending.\n",
      "Professor Nate Foster was requested but doesn't seem to be attending.\n",
      "Professor Rachit Agarwal was requested but doesn't seem to be attending.\n",
      "Professor Florentina Bunea was requested but doesn't seem to be attending.\n",
      "Professor Rachit Agarwal was requested but doesn't seem to be attending.\n",
      "Professor Nate Foster was requested but doesn't seem to be attending.\n",
      "Professor Nate Foster was requested but doesn't seem to be attending.\n",
      "Professor Joe Halpern was requested but doesn't seem to be attending.\n",
      "Professor Rachit Agarwal was requested but doesn't seem to be attending.\n",
      "Professor Tom Ristenpart was requested but doesn't seem to be attending.\n",
      "Professor G. Edward Suh was requested but doesn't seem to be attending.\n",
      "Professor Tom Ristenpart was requested but doesn't seem to be attending.\n",
      "Professor G. Edward Suh was requested but doesn't seem to be attending.\n",
      "Professor Rachit Agarwal was requested but doesn't seem to be attending.\n",
      "Professor Rachit Agarwal was requested but doesn't seem to be attending.\n",
      "Professor Qian Yang was requested but doesn't seem to be attending.\n",
      "Professor Mor Naaman was requested but doesn't seem to be attending.\n",
      "Professor Tapan Parikh was requested but doesn't seem to be attending.\n",
      "Professor Tanzeem Choudhury was requested but doesn't seem to be attending.\n",
      "Professor Jayadev Acharya was requested but doesn't seem to be attending.\n",
      "Professor Nate Foster was requested but doesn't seem to be attending.\n",
      "Professor Rachit Agarwal was requested but doesn't seem to be attending.\n",
      "Professor Nate Foster was requested but doesn't seem to be attending.\n",
      "Professor Bart Selman was requested but doesn't seem to be attending.\n",
      "Professor Jayadev Acharya was requested but doesn't seem to be attending.\n",
      "Professor Tom Ristenpart was requested but doesn't seem to be attending.\n",
      "Professor Nicola Dell was requested but doesn't seem to be attending.\n",
      "Professor Tanzeem Choudhury was requested but doesn't seem to be attending.\n",
      "Professor Tom Ristenpart was requested but doesn't seem to be attending.\n",
      "Professor Qian Yang was requested but doesn't seem to be attending.\n",
      "Professor Rachit Agarwal was requested but doesn't seem to be attending.\n",
      "Professor Tom Ristenpart was requested but doesn't seem to be attending.\n",
      "Professor Rachit Agarwal was requested but doesn't seem to be attending.\n",
      "Professor Nate Foster was requested but doesn't seem to be attending.\n",
      "Professor Rachit Agarwal was requested but doesn't seem to be attending.\n",
      "Professor Nate Foster was requested but doesn't seem to be attending.\n",
      "Professor Hadas Kress-Gazit was requested but doesn't seem to be attending.\n"
     ]
    },
    {
     "name": "stderr",
     "output_type": "stream",
     "text": [
      "100%|██████████| 155/155 [00:19<00:00,  7.85it/s]\n"
     ]
    },
    {
     "name": "stdout",
     "output_type": "stream",
     "text": [
      "Welcome to the CBC MILP Solver \n",
      "Version: Trunk\n",
      "Build Date: Oct 28 2021 \n",
      "\n",
      "Starting solution of the Linear programming relaxation problem using Primal Simplex\n",
      "\n",
      "Coin0506I Presolve 400905 (-299335) rows, 125313 (-259707) columns and 1517445 (-1114707) elements\n",
      "Clp0030I 5 infeas 19.580733, obj 77952.036 - mu 0.0027351147, its 105, 10113 interior\n",
      "Clp0030I 9 infeas 1.2388492, obj 75306.012 - mu 0.00091161373, its 105, 10753 interior\n",
      "Clp0030I 13 infeas 6.1206467, obj 76375.78 - mu 0.00010127016, its 105, 11179 interior\n",
      "Clp0030I 17 infeas 0.093513232, obj 75058.925 - mu 3.3753344e-05, its 105, 12083 interior\n",
      "Clp0030I 21 infeas 0.044405501, obj 75056.747 - mu 1.1249989e-05, its 105, 12506 interior\n",
      "Clp0030I 25 infeas 0.078028798, obj 75072.158 - mu 1.2497488e-06, its 105, 12977 interior\n",
      "Clp0030I 29 infeas 0.0048377902, obj 75055.056 - mu 4.1654129e-07, its 105, 13438 interior\n",
      "Clp1000I sum of infeasibilities 0.00129284 - average 3.2248e-09, 111875 fixed columns\n",
      "Coin0506I Presolve 12975 (-387930) rows, 13437 (-111876) columns and 95064 (-1422381) elements\n",
      "Clp0006I 0  Obj 75055.048 Primal inf 0.0010423739 (221) Dual inf 2.86e+15 (13437)\n",
      "Clp0029I End of values pass after 13437 iterations\n",
      "Clp0014I Perturbing problem by 0.001% of 1.0711419 - largest nonzero change 2.9966364e-05 ( 0.0014983182%) - largest zero change 2.9907206e-05\n",
      "Clp0000I Optimal - objective value 75058\n",
      "Clp0000I Optimal - objective value 75058\n",
      "Coin0511I After Postsolve, objective 75058, infeasibilities - dual 0 (0), primal 0 (0)\n",
      "Clp0006I 0  Obj 75058 Dual inf 5.999998 (2)\n",
      "Clp0014I Perturbing problem by 0.001% of 1.0036373 - largest nonzero change 2.9986897e-05 ( 0.0014993448%) - largest zero change 2.9837808e-05\n",
      "Clp0000I Optimal - objective value 75058\n",
      "Clp0000I Optimal - objective value 75058\n",
      "Clp0000I Optimal - objective value 75058\n",
      "Coin0511I After Postsolve, objective 75058, infeasibilities - dual 0 (0), primal 0 (0)\n",
      "Clp0032I Optimal objective 75058 - 0 iterations time 7.652, Presolve 0.79, Idiot 6.81\n",
      "\n",
      "Starting MIP optimization\n",
      "Cgl0002I 259707 variables fixed\n",
      "Cgl0003I 0 fixed, 0 tightened bounds, 383091 strengthened rows, 0 substitutions\n",
      "Cgl0003I 0 fixed, 0 tightened bounds, 382109 strengthened rows, 0 substitutions\n",
      "Cgl0003I 0 fixed, 0 tightened bounds, 362854 strengthened rows, 0 substitutions\n",
      "Cgl0003I 0 fixed, 0 tightened bounds, 341061 strengthened rows, 0 substitutions\n",
      "Cgl0003I 0 fixed, 0 tightened bounds, 322396 strengthened rows, 0 substitutions\n",
      "Cgl0003I 0 fixed, 0 tightened bounds, 306050 strengthened rows, 0 substitutions\n",
      "Cgl0003I 0 fixed, 0 tightened bounds, 289399 strengthened rows, 0 substitutions\n",
      "Cgl0003I 0 fixed, 0 tightened bounds, 271357 strengthened rows, 0 substitutions\n",
      "Cgl0003I 0 fixed, 0 tightened bounds, 254181 strengthened rows, 0 substitutions\n",
      "Cgl0004I processed model has 289840 rows, 125313 columns (125313 integer (125313 of which binary)) and 3545045 elements\n",
      "Coin3009W Conflict graph built in 0.918 seconds, density: 0.040%\n",
      "Cgl0015I Clique Strengthening extended 16727 cliques, 260073 were dominated\n",
      "Cbc0038I Initial state - 1142 integers unsatisfied sum - 356.355\n",
      "Cbc0038I Pass   1: (58.31 seconds) suminf.    0.00000 (0) obj. -33812 iterations 5318\n",
      "Cbc0038I Solution found of -33812\n",
      "Cbc0038I Rounding solution of -48891 is better than previous of -33812\n",
      "\n",
      "Cbc0038I Before mini branch and bound, 124137 integers at bound fixed and 0 continuous\n",
      "Cbc0038I Full problem 46494 rows 125313 columns, reduced to 1505 rows 1167 columns\n",
      "Cbc0038I Mini branch and bound improved solution from -48891 to -74958 (61.27 seconds)\n",
      "Cbc0038I Round again with cutoff of -74968.9\n",
      "Cbc0038I Reduced cost fixing fixed 104751 variables on major pass 2\n",
      "Cbc0038I Pass   2: (61.61 seconds) suminf.    0.29500 (1) obj. -74968.9 iterations 1890\n",
      "Cbc0038I Pass   3: (61.71 seconds) suminf.    0.29500 (1) obj. -74968.9 iterations 222\n",
      "Cbc0038I Solution found of -74983\n",
      "Cbc0038I Rounding solution of -74998 is better than previous of -74983\n",
      "\n",
      "Cbc0038I Before mini branch and bound, 124105 integers at bound fixed and 0 continuous\n",
      "Cbc0038I Full problem 46494 rows 125313 columns, reduced to 1531 rows 1193 columns\n",
      "Cbc0038I Mini branch and bound improved solution from -74998 to -75058 (63.88 seconds)\n",
      "Cbc0038I After 63.93 seconds - Feasibility pump exiting with objective of -75058 - took 6.47 seconds\n",
      "Cbc0012I Integer solution of -75058 found by feasibility pump after 0 iterations and 0 nodes (63.95 seconds)\n",
      "Cbc0001I Search completed - best objective -75058, took 0 iterations and 0 nodes (64.08 seconds)\n",
      "Cbc0035I Maximum depth 0, 0 variables fixed on reduced cost\n",
      "Total time (CPU seconds):       62.19   (Wallclock seconds):       66.95\n",
      "\n",
      "14260\n",
      "4185\n",
      "2484\n",
      "963\n",
      "Did not schedule requested meeting between Andrea Miller \n",
      "                    and top 2 choice Rachee Singh\n",
      "Did not schedule requested meeting between Anmol Kabra \n",
      "                    and top 2 choice Kilian Weinberger\n",
      "Did not schedule requested meeting between Archit Bhatnagar \n",
      "                    and top 1 choice Rachee Singh\n",
      "Did not schedule requested meeting between Cai Zhou \n",
      "                    and top 2 choice Volodymyr Kuleshov\n",
      "Did not schedule requested meeting between Chengyu Huang \n",
      "                    and top 2 choice Yoav Artzi\n",
      "Did not schedule requested meeting between Daniel Ritter \n",
      "                    and top 2 choice Alexander (Sasha) Rush\n",
      "Did not schedule requested meeting between David Heineman \n",
      "                    and top 2 choice Yoav Artzi\n",
      "Did not schedule requested meeting between Giovanni Monea \n",
      "                    and top 1 choice Alexander (Sasha) Rush\n",
      "Did not schedule requested meeting between Hannah Gonzalez \n",
      "                    and top 1 choice Alexander (Sasha) Rush\n",
      "Did not schedule requested meeting between Hanyu Chen \n",
      "                    and top 2 choice Steve Marschner\n",
      "Did not schedule requested meeting between Hao Phung \n",
      "                    and top 1 choice Noah Snavely\n",
      "Did not schedule requested meeting between Haozheng Yu \n",
      "                    and top 2 choice Noah Snavely\n",
      "Did not schedule requested meeting between Hasindu Kanaththage \n",
      "                    and top 2 choice Bharath Hariharan\n",
      "Did not schedule requested meeting between Jenny Wang \n",
      "                    and top 1 choice Allison Koenecke\n",
      "Did not schedule requested meeting between Jingsen Zhu \n",
      "                    and top 1 choice Noah Snavely\n",
      "Did not schedule requested meeting between Katherine Tian \n",
      "                    and top 2 choice Yoav Artzi\n",
      "Did not schedule requested meeting between Kiyohiro Nakayama \n",
      "                    and top 2 choice Noah Snavely\n",
      "Did not schedule requested meeting between Lakshya A Agrawal \n",
      "                    and top 2 choice Saikat Dutta\n",
      "Did not schedule requested meeting between Linxi Zhao \n",
      "                    and top 2 choice Yoav Artzi\n",
      "Did not schedule requested meeting between Megan Richards \n",
      "                    and top 2 choice Yoav Artzi\n",
      "Did not schedule requested meeting between Nanye Ma \n",
      "                    and top 2 choice Noah Snavely\n",
      "Did not schedule requested meeting between Natalie Neamtu \n",
      "                    and top 2 choice Rachee Singh\n",
      "Did not schedule requested meeting between Pranjal Aggarwal \n",
      "                    and top 2 choice Yoav Artzi\n",
      "Did not schedule requested meeting between Qiuhong Wei \n",
      "                    and top 2 choice Noah Snavely\n",
      "Did not schedule requested meeting between Rajeev Datta \n",
      "                    and top 2 choice Bharath Hariharan\n",
      "Did not schedule requested meeting between Rundong Luo \n",
      "                    and top 1 choice Noah Snavely\n",
      "Did not schedule requested meeting between Seun Eisape \n",
      "                    and top 2 choice Alexander (Sasha) Rush\n",
      "Did not schedule requested meeting between Seungju Han \n",
      "                    and top 2 choice Alexander (Sasha) Rush\n",
      "Did not schedule requested meeting between Shankar Padmanabhan \n",
      "                    and top 2 choice Yoav Artzi\n",
      "Did not schedule requested meeting between Shankar Padmanabhan \n",
      "                           and secondary advocate Yoav Artzi\n",
      "Did not schedule requested meeting between Sheng-Yen Chou \n",
      "                    and top 2 choice Kilian Weinberger\n",
      "Did not schedule requested meeting between Tianjian Li \n",
      "                    and top 2 choice Alexander (Sasha) Rush\n",
      "Did not schedule requested meeting between Wenxuan Peng \n",
      "                    and top 2 choice Noah Snavely\n",
      "Did not schedule requested meeting between Yair Feldman \n",
      "                    and top 2 choice Alexander (Sasha) Rush\n",
      "Did not schedule requested meeting between Yijia Dai \n",
      "                    and top 1 choice Alexander (Sasha) Rush\n",
      "Did not schedule requested meeting between Yijia Dai \n",
      "                    and top 2 choice Yoav Artzi\n",
      "Did not schedule requested meeting between Zhengxin Zhang \n",
      "                    and top 1 choice Alexander (Sasha) Rush\n",
      "Did not schedule requested meeting between Zizhang Li \n",
      "                    and top 1 choice Noah Snavely\n"
     ]
    }
   ],
   "source": [
    "%run main.py"
   ]
  },
  {
   "cell_type": "code",
   "execution_count": 21,
   "metadata": {},
   "outputs": [
    {
     "data": {
      "text/plain": [
       "{Zhiyang Pan<>Christopher De Sa Monday-14:10-14:25 None,\n",
       " Zhiyang Pan<>Fengqi You Monday-13:50-14:05 None,\n",
       " Zhiyang Pan<>Giulia Guidi Monday-13:30-13:45 None,\n",
       " Zhiyang Pan<>Mohamed Abdelfattah Wednesday-11:00-11:15 257 Bloomberg,\n",
       " Zhiyang Pan<>Udit Gupta Monday-11:35-11:50 None}"
      ]
     },
     "execution_count": 21,
     "metadata": {},
     "output_type": "execute_result"
    }
   ],
   "source": [
    "name = \"Zhiyang Pan\"\n",
    "stud =  model.students_by_name[name]\n",
    "stud.meetings\n",
    "# prof = model.professors_by_name[\"Saikat Dutta\"]"
   ]
  },
  {
   "cell_type": "code",
   "execution_count": 39,
   "metadata": {},
   "outputs": [
    {
     "name": "stdout",
     "output_type": "stream",
     "text": [
      " student:  [Monday-11:15-12:00, Monday-14:30-17:30, Tuesday-9:00-11:00, Tuesday-14:00-17:00, Wednesday-10:20-10:55, Wednesday-13:30-15:00]\n",
      " prof:  [Monday-13:30-13:45, Monday-13:50-14:05, Monday-14:10-14:25, Monday-14:30-14:45, Monday-14:50-15:05, Monday-15:10-15:25, Tuesday-10:40-10:55, Tuesday-11:00-11:15, Tuesday-11:20-11:35, Tuesday-11:40-11:55]\n"
     ]
    }
   ],
   "source": [
    "print(\" student: \", stud.times_offered)\n",
    "print(\" prof: \", prof.times_offered)"
   ]
  },
  {
   "cell_type": "code",
   "execution_count": 42,
   "metadata": {},
   "outputs": [
    {
     "data": {
      "text/plain": [
       "{Hailie Mitchell<>Saikat Dutta Monday-14:50-15:05 None,\n",
       " Jun Yang<>Saikat Dutta Monday-14:30-14:45 450 Gates Hall,\n",
       " Shinhae Kim<>Saikat Dutta Monday-15:10-15:25 450 Gates Hall,\n",
       " Xinyu Lian<>Saikat Dutta Tuesday-10:40-10:55 450 Gates Hall}"
      ]
     },
     "execution_count": 42,
     "metadata": {},
     "output_type": "execute_result"
    }
   ],
   "source": [
    "prof.meetings"
   ]
  },
  {
   "cell_type": "code",
   "execution_count": 4,
   "metadata": {},
   "outputs": [],
   "source": [
    "sam = model.students_by_name[\"Samuel Breckenridge\"]"
   ]
  },
  {
   "cell_type": "code",
   "execution_count": 5,
   "metadata": {},
   "outputs": [],
   "source": [
    "ari = model.professors_by_name[\"Ari Juels\"]"
   ]
  },
  {
   "cell_type": "code",
   "execution_count": 6,
   "metadata": {},
   "outputs": [
    {
     "data": {
      "text/plain": [
       "{Samuel Breckenridge<>Andrew Myers Monday-11:15-11:30 428 Gates Hall,\n",
       " Samuel Breckenridge<>Ken Birman Monday-11:35-11:50 435 Gates Hall,\n",
       " Samuel Breckenridge<>Vitaly Shmatikov Tuesday-10:20-10:35 None}"
      ]
     },
     "execution_count": 6,
     "metadata": {},
     "output_type": "execute_result"
    }
   ],
   "source": [
    "sam.meetings"
   ]
  },
  {
   "cell_type": "code",
   "execution_count": 7,
   "metadata": {},
   "outputs": [
    {
     "data": {
      "text/plain": [
       "{Om Chabra<>Ari Juels Tuesday-14:20-14:35 None,\n",
       " Omar Eqbal<>Ari Juels Tuesday-14:40-14:55 None,\n",
       " Yunxi Shen<>Ari Juels Tuesday-14:00-14:15 None}"
      ]
     },
     "execution_count": 7,
     "metadata": {},
     "output_type": "execute_result"
    }
   ],
   "source": [
    "ari.meetings"
   ]
  },
  {
   "cell_type": "code",
   "execution_count": 10,
   "metadata": {},
   "outputs": [],
   "source": [
    "l = list(ari.meetings)"
   ]
  },
  {
   "cell_type": "code",
   "execution_count": 11,
   "metadata": {},
   "outputs": [
    {
     "data": {
      "text/plain": [
       "[Omar Eqbal<>Ari Juels Tuesday-14:40-14:55 None,\n",
       " Om Chabra<>Ari Juels Tuesday-14:20-14:35 None,\n",
       " Yunxi Shen<>Ari Juels Tuesday-14:00-14:15 None]"
      ]
     },
     "execution_count": 11,
     "metadata": {},
     "output_type": "execute_result"
    }
   ],
   "source": [
    "l"
   ]
  },
  {
   "cell_type": "code",
   "execution_count": 8,
   "metadata": {},
   "outputs": [
    {
     "data": {
      "text/plain": [
       "[Monday-11:15-12:00,\n",
       " Monday-14:30-17:30,\n",
       " Tuesday-9:00-11:00,\n",
       " Tuesday-14:00-17:00,\n",
       " Wednesday-10:20-10:55,\n",
       " Wednesday-13:30-15:00]"
      ]
     },
     "execution_count": 8,
     "metadata": {},
     "output_type": "execute_result"
    }
   ],
   "source": [
    "sam.times_offered"
   ]
  },
  {
   "cell_type": "code",
   "execution_count": 9,
   "metadata": {},
   "outputs": [
    {
     "data": {
      "text/plain": [
       "[Tuesday-14:00-14:15, Tuesday-14:20-14:35, Tuesday-14:40-14:55]"
      ]
     },
     "execution_count": 9,
     "metadata": {},
     "output_type": "execute_result"
    }
   ],
   "source": [
    "ari.times_offered"
   ]
  },
  {
   "cell_type": "code",
   "execution_count": 13,
   "metadata": {},
   "outputs": [
    {
     "data": {
      "text/plain": [
       "263"
      ]
     },
     "execution_count": 13,
     "metadata": {},
     "output_type": "execute_result"
    }
   ],
   "source": [
    "model.value(ari, sam, l[0].timeslot)"
   ]
  },
  {
   "cell_type": "code",
   "execution_count": 14,
   "metadata": {},
   "outputs": [],
   "source": [
    "omar = model.students_by_name[\"Omar Eqbal\"]"
   ]
  },
  {
   "cell_type": "code",
   "execution_count": 15,
   "metadata": {},
   "outputs": [
    {
     "data": {
      "text/plain": [
       "20"
      ]
     },
     "execution_count": 15,
     "metadata": {},
     "output_type": "execute_result"
    }
   ],
   "source": [
    "model.value(l[0].professor, l[0].student, l[0].timeslot)"
   ]
  },
  {
   "cell_type": "code",
   "execution_count": 16,
   "metadata": {},
   "outputs": [
    {
     "data": {
      "text/plain": [
       "{Samuel Breckenridge<>Andrew Myers Monday-11:15-11:30 428 Gates Hall,\n",
       " Samuel Breckenridge<>Ken Birman Monday-11:35-11:50 435 Gates Hall,\n",
       " Samuel Breckenridge<>Vitaly Shmatikov Tuesday-10:20-10:35 None}"
      ]
     },
     "execution_count": 16,
     "metadata": {},
     "output_type": "execute_result"
    }
   ],
   "source": [
    "sam.meetings"
   ]
  },
  {
   "cell_type": "code",
   "execution_count": 24,
   "metadata": {},
   "outputs": [
    {
     "data": {
      "text/plain": [
       "False"
      ]
     },
     "execution_count": 24,
     "metadata": {},
     "output_type": "execute_result"
    }
   ],
   "source": [
    "model.feasible(l[0].professor, sam, l[0].timeslot)"
   ]
  },
  {
   "cell_type": "code",
   "execution_count": 27,
   "metadata": {},
   "outputs": [
    {
     "data": {
      "text/plain": [
       "False"
      ]
     },
     "execution_count": 27,
     "metadata": {},
     "output_type": "execute_result"
    }
   ],
   "source": [
    "sam.offering_at(l[0].timeslot)"
   ]
  },
  {
   "cell_type": "code",
   "execution_count": 28,
   "metadata": {},
   "outputs": [
    {
     "name": "stdout",
     "output_type": "stream",
     "text": [
      "True\n",
      "True\n",
      "True\n",
      "True\n",
      "True\n",
      "True\n",
      "True\n",
      "True\n",
      "True\n",
      "True\n",
      "True\n",
      "True\n",
      "True\n",
      "True\n",
      "True\n",
      "True\n",
      "True\n",
      "False\n",
      "False\n",
      "False\n",
      "False\n",
      "False\n",
      "False\n",
      "False\n",
      "False\n",
      "False\n",
      "True\n",
      "True\n",
      "True\n",
      "True\n",
      "True\n",
      "True\n"
     ]
    }
   ],
   "source": [
    "for timeslot in FIFTEEN_MINUTE_SLOTS:\n",
    "    print(sam.offering_at(timeslot))"
   ]
  },
  {
   "cell_type": "code",
   "execution_count": 30,
   "metadata": {},
   "outputs": [
    {
     "name": "stdout",
     "output_type": "stream",
     "text": [
      "AvailabilityType.ITHACA\n",
      "AvailabilityType.ITHACA\n",
      "AvailabilityType.ITHACA\n",
      "AvailabilityType.ITHACA\n",
      "AvailabilityType.ITHACA\n",
      "AvailabilityType.ITHACA\n",
      "AvailabilityType.ITHACA\n",
      "AvailabilityType.ITHACA\n",
      "AvailabilityType.ITHACA\n",
      "AvailabilityType.ITHACA\n",
      "AvailabilityType.ITHACA\n",
      "AvailabilityType.ITHACA\n",
      "AvailabilityType.ITHACA\n",
      "AvailabilityType.ITHACA\n",
      "AvailabilityType.ITHACA\n",
      "AvailabilityType.ITHACA\n",
      "AvailabilityType.ITHACA\n",
      "AvailabilityType.ITHACA\n",
      "AvailabilityType.ITHACA\n",
      "AvailabilityType.ITHACA\n",
      "AvailabilityType.ITHACA\n",
      "AvailabilityType.ITHACA\n",
      "AvailabilityType.ITHACA\n",
      "AvailabilityType.ITHACA\n",
      "AvailabilityType.ITHACA\n",
      "AvailabilityType.ITHACA\n",
      "AvailabilityType.CORNELL_TECH\n",
      "AvailabilityType.CORNELL_TECH\n",
      "AvailabilityType.CORNELL_TECH\n",
      "AvailabilityType.CORNELL_TECH\n",
      "AvailabilityType.CORNELL_TECH\n",
      "AvailabilityType.CORNELL_TECH\n"
     ]
    }
   ],
   "source": [
    "for timeslot in FIFTEEN_MINUTE_SLOTS:\n",
    "    print(sam.mode_at(timeslot))"
   ]
  },
  {
   "cell_type": "code",
   "execution_count": 31,
   "metadata": {},
   "outputs": [
    {
     "data": {
      "text/plain": [
       "[Tuesday-12:00-0:00]"
      ]
     },
     "execution_count": 31,
     "metadata": {},
     "output_type": "execute_result"
    }
   ],
   "source": [
    "sam.times_excluded"
   ]
  },
  {
   "cell_type": "code",
   "execution_count": 34,
   "metadata": {},
   "outputs": [
    {
     "name": "stdout",
     "output_type": "stream",
     "text": [
      "[Tuesday-12:00-0:00]\n",
      "[Tuesday-12:00-0:00]\n",
      "[Tuesday-12:00-0:00]\n",
      "[Tuesday-12:00-0:00]\n",
      "[Tuesday-12:00-0:00]\n",
      "[Tuesday-12:00-0:00]\n",
      "[Tuesday-12:00-0:00]\n",
      "[Tuesday-12:00-0:00]\n",
      "[Tuesday-12:00-0:00]\n",
      "[Tuesday-12:00-0:00]\n",
      "[Tuesday-12:00-0:00]\n",
      "[Tuesday-12:00-0:00]\n",
      "[Tuesday-12:00-0:00]\n",
      "[Tuesday-12:00-0:00]\n",
      "[Tuesday-12:00-0:00]\n",
      "[Tuesday-12:00-0:00]\n",
      "[Tuesday-12:00-0:00]\n",
      "[Tuesday-12:00-0:00]\n",
      "[Tuesday-12:00-0:00]\n",
      "[Tuesday-12:00-0:00]\n",
      "[Tuesday-12:00-0:00]\n",
      "[Tuesday-12:00-0:00]\n",
      "[Tuesday-12:00-0:00]\n",
      "[Tuesday-12:00-0:00]\n",
      "[Tuesday-12:00-0:00]\n",
      "[Tuesday-12:00-0:00]\n",
      "[Tuesday-12:00-0:00]\n",
      "[Tuesday-12:00-0:00]\n",
      "[Tuesday-12:00-0:00]\n",
      "[Tuesday-12:00-0:00]\n",
      "[Tuesday-12:00-0:00]\n",
      "[Tuesday-12:00-0:00]\n",
      "[Tuesday-12:00-0:00]\n",
      "[Tuesday-12:00-0:00]\n",
      "[Tuesday-12:00-0:00]\n",
      "[Tuesday-12:00-0:00]\n",
      "[Tuesday-12:00-0:00]\n",
      "[Tuesday-12:00-0:00]\n",
      "[Tuesday-12:00-0:00]\n",
      "[Tuesday-12:00-0:00]\n",
      "[Tuesday-12:00-0:00]\n",
      "[Tuesday-12:00-0:00]\n",
      "[Tuesday-12:00-0:00]\n",
      "[Tuesday-12:00-0:00]\n",
      "[Tuesday-12:00-0:00]\n",
      "[Tuesday-12:00-0:00]\n",
      "[Tuesday-12:00-0:00]\n",
      "[Tuesday-12:00-0:00]\n",
      "[Tuesday-12:00-0:00]\n",
      "[Tuesday-12:00-0:00]\n",
      "[Tuesday-12:00-0:00]\n",
      "[Tuesday-12:00-0:00]\n",
      "[Tuesday-12:00-0:00]\n",
      "[Tuesday-12:00-0:00]\n",
      "[Tuesday-12:00-0:00]\n",
      "[Tuesday-12:00-0:00]\n",
      "[Tuesday-12:00-0:00]\n",
      "[Tuesday-12:00-0:00]\n",
      "[Tuesday-12:00-0:00]\n",
      "[Tuesday-12:00-0:00]\n",
      "[Tuesday-12:00-0:00]\n",
      "[Tuesday-12:00-0:00]\n",
      "[Tuesday-12:00-0:00]\n",
      "[Tuesday-12:00-0:00]\n",
      "[Tuesday-12:00-0:00]\n",
      "[Tuesday-12:00-0:00]\n",
      "[Tuesday-12:00-0:00]\n",
      "[Tuesday-12:00-0:00]\n",
      "[Tuesday-12:00-0:00]\n",
      "[Tuesday-12:00-0:00]\n",
      "[Tuesday-12:00-0:00]\n",
      "[Tuesday-12:00-0:00]\n",
      "[Tuesday-12:00-0:00]\n",
      "[Tuesday-12:00-0:00]\n",
      "[Tuesday-12:00-0:00]\n",
      "[Tuesday-12:00-0:00]\n",
      "[Tuesday-12:00-0:00]\n",
      "[Tuesday-12:00-0:00]\n",
      "[Tuesday-12:00-0:00]\n",
      "[Tuesday-12:00-0:00]\n",
      "[Tuesday-12:00-0:00]\n",
      "[Tuesday-12:00-0:00]\n",
      "[Tuesday-12:00-0:00]\n",
      "[Tuesday-12:00-0:00]\n",
      "[Tuesday-12:00-0:00]\n",
      "[Tuesday-12:00-0:00]\n",
      "[Tuesday-12:00-0:00]\n",
      "[Tuesday-12:00-0:00]\n",
      "[Tuesday-12:00-0:00]\n",
      "[Tuesday-12:00-0:00]\n",
      "[Tuesday-12:00-0:00]\n",
      "[Tuesday-12:00-0:00]\n",
      "[Tuesday-12:00-0:00]\n",
      "[Tuesday-12:00-0:00]\n",
      "[Tuesday-12:00-0:00]\n",
      "[Tuesday-12:00-0:00]\n",
      "[Tuesday-12:00-0:00]\n"
     ]
    }
   ],
   "source": [
    "for student in model.students():\n",
    "    if len(student.times_excluded) > 0:\n",
    "        print(student.times_excluded)"
   ]
  },
  {
   "cell_type": "code",
   "execution_count": null,
   "metadata": {},
   "outputs": [],
   "source": []
  }
 ],
 "metadata": {
  "kernelspec": {
   "display_name": "Python 3.9.12 ('base')",
   "language": "python",
   "name": "python3"
  },
  "language_info": {
   "codemirror_mode": {
    "name": "ipython",
    "version": 3
   },
   "file_extension": ".py",
   "mimetype": "text/x-python",
   "name": "python",
   "nbconvert_exporter": "python",
   "pygments_lexer": "ipython3",
   "version": "3.9.12"
  },
  "orig_nbformat": 4,
  "vscode": {
   "interpreter": {
    "hash": "7f079a34d0c7003b0fada8ddfbac0c347cf906c18fdbbe559734525824491b66"
   }
  }
 },
 "nbformat": 4,
 "nbformat_minor": 2
}
