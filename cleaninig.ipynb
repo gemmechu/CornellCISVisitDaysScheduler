{
 "cells": [
  {
   "cell_type": "code",
   "execution_count": 5,
   "metadata": {},
   "outputs": [],
   "source": [
    "import csv\n",
    "\n",
    "import pandas as pd"
   ]
  },
  {
   "cell_type": "code",
   "execution_count": 4,
   "metadata": {},
   "outputs": [
    {
     "name": "stdout",
     "output_type": "stream",
     "text": [
      "['A. Kevin Tang NLP']\n"
     ]
    }
   ],
   "source": [
    "\n",
    "def modify_names_with_area(csv_file):\n",
    "    modified_names = []\n",
    "    with open(csv_file, 'r') as file:\n",
    "        reader = csv.DictReader(file)\n",
    "        for row in reader:\n",
    "            name = row['FacultyName']\n",
    "            area = row['Area 1']\n",
    "            modified_name = f\"{name} {area}\"\n",
    "            modified_names.append(modified_name)\n",
    "            break\n",
    "    return modified_names\n",
    "\n",
    "# Example usage:\n",
    "csv_file = '/Users/gemmechu/Documents/Cornell/CornellCISVisitDaysScheduler/2024/input/faculty-data-new.csv'  # Replace 'data.csv' with your actual file path\n",
    "modified_names = modify_names_with_area(csv_file)\n",
    "print(modified_names)"
   ]
  },
  {
   "cell_type": "code",
   "execution_count": 8,
   "metadata": {},
   "outputs": [],
   "source": [
    "def create_faculty_name_column(csv_file, output_csv_file):\n",
    "    # Read the CSV file into a pandas DataFrame\n",
    "    df = pd.read_csv(csv_file)\n",
    "\n",
    "    # Concatenate values in 'First Name' and 'Last Name' columns to create 'FacultyName' column\n",
    "    df['FacultyName'] = df['First Name'] + ' ' + df['Last Name']\n",
    "\n",
    "    # Save the modified DataFrame back to a new CSV file\n",
    "    df.to_csv(output_csv_file, index=False)\n",
    "\n",
    "    return output_csv_file\n",
    "# Example usage:\n",
    "csv_file = '/Users/gemmechu/Documents/Cornell/CornellCISVisitDaysScheduler/2024/input/areas.csv'  # Replace 'data.csv' with your actual file path\n",
    "output_csv_file = '/Users/gemmechu/Documents/Cornell/CornellCISVisitDaysScheduler/2024/input/areas_modified.csv' \n",
    "new_csv_file = create_faculty_name_column(csv_file,output_csv_file)\n",
    "# print(f\"New CSV file with 'FacultyName' column created: {new_csv_file}\")"
   ]
  },
  {
   "cell_type": "code",
   "execution_count": 22,
   "metadata": {},
   "outputs": [
    {
     "name": "stdout",
     "output_type": "stream",
     "text": [
      "A. Kevin Tang\n",
      "Ahmed El Alaoui\n",
      "Bobby Kleinberg\n",
      "Carla Gomes\n",
      "Christina Lee Yu\n",
      "Jose Martinez\n",
      "Kuan Fang\n",
      "Malte Jung\n",
      "Mark Campbell\n",
      "Michael KIm\n",
      "Nick Spooner\n",
      "Robbert van Renesse\n",
      "Saikat Dutta\n",
      "Sainyan Galholtra\n",
      "Siddhartha Banerjee\n",
      "Tanya Goyal\n",
      "Tapo Bhattacharjee\n",
      "Thorsten Joachims\n",
      "Wei-Chiu Ma\n",
      "Wen Sun\n",
      "Ziv Scully\n",
      "Alexander (Sasha) Rush \n",
      "Ari Juels \n",
      "Daniel Lee \n",
      "Deborah Estrin \n",
      "Deborah Estrin \n",
      "Florentina Bunea\n",
      "Francesca Parise\n",
      "G. Edward Suh\n",
      "Mark Wilde\n",
      "Mohamed Abdelfattah \n",
      "Nathan Kallus \n",
      "Nicola Dell \n",
      "Nikhil Garg \n",
      "Noah Snavely \n",
      "Rajalakshmi Nandakumar \n",
      "Tom Ristenpart \n",
      "Yoav Artzi \n",
      "Alex Conway \n",
      "Emma Pierson \n",
      "Raz Dwivedi \n",
      "Thijs Roumen \n",
      "Udit Gupta \n",
      "Vitaly Shmatikov \n",
      "Volodymyr Kuleshov \n",
      "Wendy Ju \n"
     ]
    }
   ],
   "source": [
    "import pandas as pd\n",
    "\n",
    "def update_areas(file_a_path, file_b_path):\n",
    "    # Step 1: Read both CSV files into pandas DataFrames\n",
    "    df_a = pd.read_csv(file_a_path)\n",
    "    df_b = pd.read_csv(file_b_path)\n",
    "\n",
    "    # Step 2-4: Iterate through each row in DataFrame A and update the values using DataFrame B\n",
    "    for index, row in df_a.iterrows():\n",
    "        faculty_name = row['FacultyName']\n",
    "        corresponding_row_b = df_b[df_b['FacultyName'] == faculty_name]\n",
    "        # try:\n",
    "        # If there's a corresponding row in DataFrame B, update values in DataFrame A\n",
    "        if not corresponding_row_b.empty:\n",
    "            area1 = corresponding_row_b.iloc[0]['Area 1']\n",
    "            area2 = corresponding_row_b.iloc[0]['Area 2']\n",
    "            # area3 = corresponding_row_b.iloc[0]['Area 3']\n",
    "            df_a.at[index, 'Area 1'] = area1\n",
    "            df_a.at[index, 'Area 2'] = area2\n",
    "            # df_a.at[index, 'Area 3'] = area3\n",
    "        else:\n",
    "            print(faculty_name)\n",
    "        # except:\n",
    "        #     print(\"problem: \", faculty_name)\n",
    "\n",
    "    return df_a\n",
    "\n",
    "# Example usage:\n",
    "A = \"/Users/gemmechu/Documents/Cornell/CornellCISVisitDaysScheduler/2024/input/faculty-data-new.csv\"\n",
    "B = \"/Users/gemmechu/Documents/Cornell/CornellCISVisitDaysScheduler/2024/input/areas_modified.csv\"\n",
    "updated_df = update_areas(A, B)\n",
    "updated_df.to_csv('updated_file_a.csv', index=False)  # Save the updated DataFrame to a new CSV file\n"
   ]
  },
  {
   "cell_type": "code",
   "execution_count": 12,
   "metadata": {},
   "outputs": [
    {
     "name": "stdout",
     "output_type": "stream",
     "text": [
      "Email Address         salman-abid@hotmail.com\n",
      "Areas                    Software Engineering\n",
      "First Name                    Muhammad Salman\n",
      "Last Name                                Abid\n",
      "Nickname                                  NaN\n",
      "25th                                Virtually\n",
      "26th                                Virtually\n",
      "27th                            Cannot attend\n",
      "Time Zone                                 NaN\n",
      "Preference 1                 Owolabi Legunsen\n",
      "Preference 2                     Saikat Dutta\n",
      "Preference 3                   Fred Schneider\n",
      "Preference 4                  Alexandra Silva\n",
      "Preference 5                     Andrew Myers\n",
      "Preference 6              Robbert van Renesse\n",
      "Additional Faculty                        NaN\n",
      "Advocate 1                   Owolabi Legunsen\n",
      "Advocate 2                                NaN\n",
      "Advocate 3                                NaN\n",
      "Advocate 4                                NaN\n",
      "Name: 0, dtype: object\n"
     ]
    }
   ],
   "source": [
    "df_a = pd.read_csv(A)\n",
    "for index, row in df_a.iterrows():\n",
    "    print(row)\n",
    "    # faculty_name = row['FacultyName']\n",
    "    break\n"
   ]
  },
  {
   "cell_type": "code",
   "execution_count": 15,
   "metadata": {},
   "outputs": [],
   "source": [
    "import pandas as pd\n",
    "import re\n",
    "# building_enum = {\"gates\":\"Gates\"}\n",
    "import pandas as pd\n",
    "\n",
    "def clean_column(csv_file, column_name):\n",
    "    # Read CSV file into a pandas dataframe\n",
    "    df = pd.read_csv(csv_file)\n",
    "    \n",
    "    # Initialize an empty list to store the cleaned values\n",
    "    cleaned_buildings = []\n",
    "    \n",
    "    for index, row in df.iterrows():\n",
    "        Office = row[column_name]\n",
    "        if isinstance(Office, str):\n",
    "            # Split the string by spaces and join all elements except the first one\n",
    "            cleaned_building = \" \".join(Office.split(\" \")[1:])\n",
    "            cleaned_buildings.append(cleaned_building)\n",
    "        else:\n",
    "            # If the value is not a string, just append an empty string\n",
    "            cleaned_buildings.append(\"\")\n",
    "    \n",
    "    # Add the cleaned values as a new column to the dataframe\n",
    "    df['Building_cleaned'] = cleaned_buildings\n",
    "    \n",
    "    return df\n",
    "\n",
    "\n",
    "\n",
    "# Example usage:\n",
    "csv_file = '/Users/gemmechu/Documents/Cornell/CornellCISVisitDaysScheduler/2024/input/faculty_build.csv'  # Replace 'example.csv' with your CSV file path\n",
    "column_name = 'Building'  # Replace 'Column_Name' with the name of the column you want to clean\n",
    "updated_df = clean_column(csv_file, column_name)\n",
    "updated_df.to_csv('updated_bulding.csv', index=False)  # Save the updated DataFrame to a new CSV file\n",
    "\n",
    "\n",
    "\n"
   ]
  },
  {
   "cell_type": "code",
   "execution_count": null,
   "metadata": {},
   "outputs": [],
   "source": []
  }
 ],
 "metadata": {
  "kernelspec": {
   "display_name": "Python 3.9.12 ('base')",
   "language": "python",
   "name": "python3"
  },
  "language_info": {
   "codemirror_mode": {
    "name": "ipython",
    "version": 3
   },
   "file_extension": ".py",
   "mimetype": "text/x-python",
   "name": "python",
   "nbconvert_exporter": "python",
   "pygments_lexer": "ipython3",
   "version": "3.9.12"
  },
  "orig_nbformat": 4,
  "vscode": {
   "interpreter": {
    "hash": "7f079a34d0c7003b0fada8ddfbac0c347cf906c18fdbbe559734525824491b66"
   }
  }
 },
 "nbformat": 4,
 "nbformat_minor": 2
}
